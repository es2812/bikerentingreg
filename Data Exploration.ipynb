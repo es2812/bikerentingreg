{
 "cells": [
  {
   "cell_type": "markdown",
   "metadata": {},
   "source": [
    "Dataset characteristics\n",
    "=========================================\t\n",
    "Both hour.csv and day.csv have the following fields, except hr which is not available in day.csv\n",
    "\t\n",
    "\t- instant: record index\n",
    "\t- dteday : date\n",
    "\t- season : season (1:springer, 2:summer, 3:fall, 4:winter)\n",
    "\t- yr : year (0: 2011, 1:2012)\n",
    "\t- mnth : month ( 1 to 12)\n",
    "\t- holiday : weather day is holiday or not (extracted from http://dchr.dc.gov/page/holiday-schedule)\n",
    "\t- weekday : day of the week\n",
    "\t- workingday : if day is neither weekend nor holiday is 1, otherwise is 0.\n",
    "\t+ weathersit : \n",
    "\t\t- 1: Clear, Few clouds, Partly cloudy, Partly cloudy\n",
    "\t\t- 2: Mist + Cloudy, Mist + Broken clouds, Mist + Few clouds, Mist\n",
    "\t\t- 3: Light Snow, Light Rain + Thunderstorm + Scattered clouds, Light Rain + Scattered clouds\n",
    "\t\t- 4: Heavy Rain + Ice Pallets + Thunderstorm + Mist, Snow + Fog\n",
    "\t- temp : Normalized temperature in Celsius. The values are divided to 41 (max)\n",
    "\t- atemp: Normalized feeling temperature in Celsius. The values are divided to 50 (max)\n",
    "\t- hum: Normalized humidity. The values are divided to 100 (max)\n",
    "\t- windspeed: Normalized wind speed. The values are divided to 67 (max)\n",
    "\t- casual: count of casual users\n",
    "\t- registered: count of registered users\n",
    "\t- cnt: count of total rental bikes including both casual and registered\n",
    "\t"
   ]
  },
  {
   "cell_type": "code",
   "execution_count": 27,
   "metadata": {
    "ExecuteTime": {
     "end_time": "2019-04-20T10:28:58.145214Z",
     "start_time": "2019-04-20T10:28:58.137688Z"
    }
   },
   "outputs": [
    {
     "name": "stdout",
     "output_type": "stream",
     "text": [
      "Populating the interactive namespace from numpy and matplotlib\n"
     ]
    }
   ],
   "source": [
    "import numpy as np\n",
    "import matplotlib.pyplot as plt\n",
    "import pandas as pd\n",
    "\n",
    "get_ipython().run_line_magic('pylab', 'inline')\n",
    "pylab.rcParams['figure.figsize'] = (15, 5)"
   ]
  },
  {
   "cell_type": "code",
   "execution_count": 115,
   "metadata": {
    "ExecuteTime": {
     "end_time": "2019-04-20T14:35:33.997659Z",
     "start_time": "2019-04-20T14:35:33.988169Z"
    }
   },
   "outputs": [],
   "source": [
    "data = pd.read_csv(\"data/day_coded.csv\")"
   ]
  },
  {
   "cell_type": "markdown",
   "metadata": {},
   "source": [
    "Muchos de los datos ya se encuentran normalizados (continuos) y expresados numéricamente (categoricos)"
   ]
  },
  {
   "cell_type": "markdown",
   "metadata": {},
   "source": [
    "# Attrs"
   ]
  },
  {
   "cell_type": "code",
   "execution_count": 116,
   "metadata": {
    "ExecuteTime": {
     "end_time": "2019-04-20T14:35:36.732590Z",
     "start_time": "2019-04-20T14:35:36.649699Z"
    }
   },
   "outputs": [
    {
     "data": {
      "text/html": [
       "<div>\n",
       "<style scoped>\n",
       "    .dataframe tbody tr th:only-of-type {\n",
       "        vertical-align: middle;\n",
       "    }\n",
       "\n",
       "    .dataframe tbody tr th {\n",
       "        vertical-align: top;\n",
       "    }\n",
       "\n",
       "    .dataframe thead th {\n",
       "        text-align: right;\n",
       "    }\n",
       "</style>\n",
       "<table border=\"1\" class=\"dataframe\">\n",
       "  <thead>\n",
       "    <tr style=\"text-align: right;\">\n",
       "      <th></th>\n",
       "      <th>instant</th>\n",
       "      <th>dteday</th>\n",
       "      <th>season</th>\n",
       "      <th>yr</th>\n",
       "      <th>mnth</th>\n",
       "      <th>holiday</th>\n",
       "      <th>weekday</th>\n",
       "      <th>workingday</th>\n",
       "      <th>weathersit</th>\n",
       "      <th>temp</th>\n",
       "      <th>atemp</th>\n",
       "      <th>hum</th>\n",
       "      <th>windspeed</th>\n",
       "      <th>casual</th>\n",
       "      <th>registered</th>\n",
       "      <th>cnt</th>\n",
       "    </tr>\n",
       "  </thead>\n",
       "  <tbody>\n",
       "    <tr>\n",
       "      <th>0</th>\n",
       "      <td>1</td>\n",
       "      <td>2011-01-01</td>\n",
       "      <td>primavera</td>\n",
       "      <td>2011</td>\n",
       "      <td>Enero</td>\n",
       "      <td>no</td>\n",
       "      <td>Sat</td>\n",
       "      <td>no</td>\n",
       "      <td>nublado</td>\n",
       "      <td>0.344167</td>\n",
       "      <td>0.363625</td>\n",
       "      <td>0.805833</td>\n",
       "      <td>0.160446</td>\n",
       "      <td>331</td>\n",
       "      <td>654</td>\n",
       "      <td>985</td>\n",
       "    </tr>\n",
       "    <tr>\n",
       "      <th>1</th>\n",
       "      <td>2</td>\n",
       "      <td>2011-01-02</td>\n",
       "      <td>primavera</td>\n",
       "      <td>2011</td>\n",
       "      <td>Enero</td>\n",
       "      <td>no</td>\n",
       "      <td>Dom</td>\n",
       "      <td>no</td>\n",
       "      <td>nublado</td>\n",
       "      <td>0.363478</td>\n",
       "      <td>0.353739</td>\n",
       "      <td>0.696087</td>\n",
       "      <td>0.248539</td>\n",
       "      <td>131</td>\n",
       "      <td>670</td>\n",
       "      <td>801</td>\n",
       "    </tr>\n",
       "    <tr>\n",
       "      <th>2</th>\n",
       "      <td>3</td>\n",
       "      <td>2011-01-03</td>\n",
       "      <td>primavera</td>\n",
       "      <td>2011</td>\n",
       "      <td>Enero</td>\n",
       "      <td>no</td>\n",
       "      <td>Lun</td>\n",
       "      <td>si</td>\n",
       "      <td>despejado</td>\n",
       "      <td>0.196364</td>\n",
       "      <td>0.189405</td>\n",
       "      <td>0.437273</td>\n",
       "      <td>0.248309</td>\n",
       "      <td>120</td>\n",
       "      <td>1229</td>\n",
       "      <td>1349</td>\n",
       "    </tr>\n",
       "    <tr>\n",
       "      <th>3</th>\n",
       "      <td>4</td>\n",
       "      <td>2011-01-04</td>\n",
       "      <td>primavera</td>\n",
       "      <td>2011</td>\n",
       "      <td>Enero</td>\n",
       "      <td>no</td>\n",
       "      <td>Mar</td>\n",
       "      <td>si</td>\n",
       "      <td>despejado</td>\n",
       "      <td>0.200000</td>\n",
       "      <td>0.212122</td>\n",
       "      <td>0.590435</td>\n",
       "      <td>0.160296</td>\n",
       "      <td>108</td>\n",
       "      <td>1454</td>\n",
       "      <td>1562</td>\n",
       "    </tr>\n",
       "    <tr>\n",
       "      <th>4</th>\n",
       "      <td>5</td>\n",
       "      <td>2011-01-05</td>\n",
       "      <td>primavera</td>\n",
       "      <td>2011</td>\n",
       "      <td>Enero</td>\n",
       "      <td>no</td>\n",
       "      <td>Mier</td>\n",
       "      <td>si</td>\n",
       "      <td>despejado</td>\n",
       "      <td>0.226957</td>\n",
       "      <td>0.229270</td>\n",
       "      <td>0.436957</td>\n",
       "      <td>0.186900</td>\n",
       "      <td>82</td>\n",
       "      <td>1518</td>\n",
       "      <td>1600</td>\n",
       "    </tr>\n",
       "    <tr>\n",
       "      <th>5</th>\n",
       "      <td>6</td>\n",
       "      <td>2011-01-06</td>\n",
       "      <td>primavera</td>\n",
       "      <td>2011</td>\n",
       "      <td>Enero</td>\n",
       "      <td>no</td>\n",
       "      <td>Jue</td>\n",
       "      <td>si</td>\n",
       "      <td>despejado</td>\n",
       "      <td>0.204348</td>\n",
       "      <td>0.233209</td>\n",
       "      <td>0.518261</td>\n",
       "      <td>0.089565</td>\n",
       "      <td>88</td>\n",
       "      <td>1518</td>\n",
       "      <td>1606</td>\n",
       "    </tr>\n",
       "    <tr>\n",
       "      <th>6</th>\n",
       "      <td>7</td>\n",
       "      <td>2011-01-07</td>\n",
       "      <td>primavera</td>\n",
       "      <td>2011</td>\n",
       "      <td>Enero</td>\n",
       "      <td>no</td>\n",
       "      <td>Vie</td>\n",
       "      <td>si</td>\n",
       "      <td>nublado</td>\n",
       "      <td>0.196522</td>\n",
       "      <td>0.208839</td>\n",
       "      <td>0.498696</td>\n",
       "      <td>0.168726</td>\n",
       "      <td>148</td>\n",
       "      <td>1362</td>\n",
       "      <td>1510</td>\n",
       "    </tr>\n",
       "    <tr>\n",
       "      <th>7</th>\n",
       "      <td>8</td>\n",
       "      <td>2011-01-08</td>\n",
       "      <td>primavera</td>\n",
       "      <td>2011</td>\n",
       "      <td>Enero</td>\n",
       "      <td>no</td>\n",
       "      <td>Sat</td>\n",
       "      <td>no</td>\n",
       "      <td>nublado</td>\n",
       "      <td>0.165000</td>\n",
       "      <td>0.162254</td>\n",
       "      <td>0.535833</td>\n",
       "      <td>0.266804</td>\n",
       "      <td>68</td>\n",
       "      <td>891</td>\n",
       "      <td>959</td>\n",
       "    </tr>\n",
       "    <tr>\n",
       "      <th>8</th>\n",
       "      <td>9</td>\n",
       "      <td>2011-01-09</td>\n",
       "      <td>primavera</td>\n",
       "      <td>2011</td>\n",
       "      <td>Enero</td>\n",
       "      <td>no</td>\n",
       "      <td>Dom</td>\n",
       "      <td>no</td>\n",
       "      <td>despejado</td>\n",
       "      <td>0.138333</td>\n",
       "      <td>0.116175</td>\n",
       "      <td>0.434167</td>\n",
       "      <td>0.361950</td>\n",
       "      <td>54</td>\n",
       "      <td>768</td>\n",
       "      <td>822</td>\n",
       "    </tr>\n",
       "    <tr>\n",
       "      <th>9</th>\n",
       "      <td>10</td>\n",
       "      <td>2011-01-10</td>\n",
       "      <td>primavera</td>\n",
       "      <td>2011</td>\n",
       "      <td>Enero</td>\n",
       "      <td>no</td>\n",
       "      <td>Lun</td>\n",
       "      <td>si</td>\n",
       "      <td>despejado</td>\n",
       "      <td>0.150833</td>\n",
       "      <td>0.150888</td>\n",
       "      <td>0.482917</td>\n",
       "      <td>0.223267</td>\n",
       "      <td>41</td>\n",
       "      <td>1280</td>\n",
       "      <td>1321</td>\n",
       "    </tr>\n",
       "    <tr>\n",
       "      <th>10</th>\n",
       "      <td>11</td>\n",
       "      <td>2011-01-11</td>\n",
       "      <td>primavera</td>\n",
       "      <td>2011</td>\n",
       "      <td>Enero</td>\n",
       "      <td>no</td>\n",
       "      <td>Mar</td>\n",
       "      <td>si</td>\n",
       "      <td>nublado</td>\n",
       "      <td>0.169091</td>\n",
       "      <td>0.191464</td>\n",
       "      <td>0.686364</td>\n",
       "      <td>0.122132</td>\n",
       "      <td>43</td>\n",
       "      <td>1220</td>\n",
       "      <td>1263</td>\n",
       "    </tr>\n",
       "    <tr>\n",
       "      <th>11</th>\n",
       "      <td>12</td>\n",
       "      <td>2011-01-12</td>\n",
       "      <td>primavera</td>\n",
       "      <td>2011</td>\n",
       "      <td>Enero</td>\n",
       "      <td>no</td>\n",
       "      <td>Mier</td>\n",
       "      <td>si</td>\n",
       "      <td>despejado</td>\n",
       "      <td>0.172727</td>\n",
       "      <td>0.160473</td>\n",
       "      <td>0.599545</td>\n",
       "      <td>0.304627</td>\n",
       "      <td>25</td>\n",
       "      <td>1137</td>\n",
       "      <td>1162</td>\n",
       "    </tr>\n",
       "    <tr>\n",
       "      <th>12</th>\n",
       "      <td>13</td>\n",
       "      <td>2011-01-13</td>\n",
       "      <td>primavera</td>\n",
       "      <td>2011</td>\n",
       "      <td>Enero</td>\n",
       "      <td>no</td>\n",
       "      <td>Jue</td>\n",
       "      <td>si</td>\n",
       "      <td>despejado</td>\n",
       "      <td>0.165000</td>\n",
       "      <td>0.150883</td>\n",
       "      <td>0.470417</td>\n",
       "      <td>0.301000</td>\n",
       "      <td>38</td>\n",
       "      <td>1368</td>\n",
       "      <td>1406</td>\n",
       "    </tr>\n",
       "    <tr>\n",
       "      <th>13</th>\n",
       "      <td>14</td>\n",
       "      <td>2011-01-14</td>\n",
       "      <td>primavera</td>\n",
       "      <td>2011</td>\n",
       "      <td>Enero</td>\n",
       "      <td>no</td>\n",
       "      <td>Vie</td>\n",
       "      <td>si</td>\n",
       "      <td>despejado</td>\n",
       "      <td>0.160870</td>\n",
       "      <td>0.188413</td>\n",
       "      <td>0.537826</td>\n",
       "      <td>0.126548</td>\n",
       "      <td>54</td>\n",
       "      <td>1367</td>\n",
       "      <td>1421</td>\n",
       "    </tr>\n",
       "    <tr>\n",
       "      <th>14</th>\n",
       "      <td>15</td>\n",
       "      <td>2011-01-15</td>\n",
       "      <td>primavera</td>\n",
       "      <td>2011</td>\n",
       "      <td>Enero</td>\n",
       "      <td>no</td>\n",
       "      <td>Sat</td>\n",
       "      <td>no</td>\n",
       "      <td>nublado</td>\n",
       "      <td>0.233333</td>\n",
       "      <td>0.248112</td>\n",
       "      <td>0.498750</td>\n",
       "      <td>0.157963</td>\n",
       "      <td>222</td>\n",
       "      <td>1026</td>\n",
       "      <td>1248</td>\n",
       "    </tr>\n",
       "    <tr>\n",
       "      <th>15</th>\n",
       "      <td>16</td>\n",
       "      <td>2011-01-16</td>\n",
       "      <td>primavera</td>\n",
       "      <td>2011</td>\n",
       "      <td>Enero</td>\n",
       "      <td>no</td>\n",
       "      <td>Dom</td>\n",
       "      <td>no</td>\n",
       "      <td>despejado</td>\n",
       "      <td>0.231667</td>\n",
       "      <td>0.234217</td>\n",
       "      <td>0.483750</td>\n",
       "      <td>0.188433</td>\n",
       "      <td>251</td>\n",
       "      <td>953</td>\n",
       "      <td>1204</td>\n",
       "    </tr>\n",
       "    <tr>\n",
       "      <th>16</th>\n",
       "      <td>17</td>\n",
       "      <td>2011-01-17</td>\n",
       "      <td>primavera</td>\n",
       "      <td>2011</td>\n",
       "      <td>Enero</td>\n",
       "      <td>si</td>\n",
       "      <td>Lun</td>\n",
       "      <td>no</td>\n",
       "      <td>nublado</td>\n",
       "      <td>0.175833</td>\n",
       "      <td>0.176771</td>\n",
       "      <td>0.537500</td>\n",
       "      <td>0.194017</td>\n",
       "      <td>117</td>\n",
       "      <td>883</td>\n",
       "      <td>1000</td>\n",
       "    </tr>\n",
       "    <tr>\n",
       "      <th>17</th>\n",
       "      <td>18</td>\n",
       "      <td>2011-01-18</td>\n",
       "      <td>primavera</td>\n",
       "      <td>2011</td>\n",
       "      <td>Enero</td>\n",
       "      <td>no</td>\n",
       "      <td>Mar</td>\n",
       "      <td>si</td>\n",
       "      <td>nublado</td>\n",
       "      <td>0.216667</td>\n",
       "      <td>0.232333</td>\n",
       "      <td>0.861667</td>\n",
       "      <td>0.146775</td>\n",
       "      <td>9</td>\n",
       "      <td>674</td>\n",
       "      <td>683</td>\n",
       "    </tr>\n",
       "    <tr>\n",
       "      <th>18</th>\n",
       "      <td>19</td>\n",
       "      <td>2011-01-19</td>\n",
       "      <td>primavera</td>\n",
       "      <td>2011</td>\n",
       "      <td>Enero</td>\n",
       "      <td>no</td>\n",
       "      <td>Mier</td>\n",
       "      <td>si</td>\n",
       "      <td>nublado</td>\n",
       "      <td>0.292174</td>\n",
       "      <td>0.298422</td>\n",
       "      <td>0.741739</td>\n",
       "      <td>0.208317</td>\n",
       "      <td>78</td>\n",
       "      <td>1572</td>\n",
       "      <td>1650</td>\n",
       "    </tr>\n",
       "    <tr>\n",
       "      <th>19</th>\n",
       "      <td>20</td>\n",
       "      <td>2011-01-20</td>\n",
       "      <td>primavera</td>\n",
       "      <td>2011</td>\n",
       "      <td>Enero</td>\n",
       "      <td>no</td>\n",
       "      <td>Jue</td>\n",
       "      <td>si</td>\n",
       "      <td>nublado</td>\n",
       "      <td>0.261667</td>\n",
       "      <td>0.255050</td>\n",
       "      <td>0.538333</td>\n",
       "      <td>0.195904</td>\n",
       "      <td>83</td>\n",
       "      <td>1844</td>\n",
       "      <td>1927</td>\n",
       "    </tr>\n",
       "    <tr>\n",
       "      <th>20</th>\n",
       "      <td>21</td>\n",
       "      <td>2011-01-21</td>\n",
       "      <td>primavera</td>\n",
       "      <td>2011</td>\n",
       "      <td>Enero</td>\n",
       "      <td>no</td>\n",
       "      <td>Vie</td>\n",
       "      <td>si</td>\n",
       "      <td>despejado</td>\n",
       "      <td>0.177500</td>\n",
       "      <td>0.157833</td>\n",
       "      <td>0.457083</td>\n",
       "      <td>0.353242</td>\n",
       "      <td>75</td>\n",
       "      <td>1468</td>\n",
       "      <td>1543</td>\n",
       "    </tr>\n",
       "    <tr>\n",
       "      <th>21</th>\n",
       "      <td>22</td>\n",
       "      <td>2011-01-22</td>\n",
       "      <td>primavera</td>\n",
       "      <td>2011</td>\n",
       "      <td>Enero</td>\n",
       "      <td>no</td>\n",
       "      <td>Sat</td>\n",
       "      <td>no</td>\n",
       "      <td>despejado</td>\n",
       "      <td>0.059130</td>\n",
       "      <td>0.079070</td>\n",
       "      <td>0.400000</td>\n",
       "      <td>0.171970</td>\n",
       "      <td>93</td>\n",
       "      <td>888</td>\n",
       "      <td>981</td>\n",
       "    </tr>\n",
       "    <tr>\n",
       "      <th>22</th>\n",
       "      <td>23</td>\n",
       "      <td>2011-01-23</td>\n",
       "      <td>primavera</td>\n",
       "      <td>2011</td>\n",
       "      <td>Enero</td>\n",
       "      <td>no</td>\n",
       "      <td>Dom</td>\n",
       "      <td>no</td>\n",
       "      <td>despejado</td>\n",
       "      <td>0.096522</td>\n",
       "      <td>0.098839</td>\n",
       "      <td>0.436522</td>\n",
       "      <td>0.246600</td>\n",
       "      <td>150</td>\n",
       "      <td>836</td>\n",
       "      <td>986</td>\n",
       "    </tr>\n",
       "    <tr>\n",
       "      <th>23</th>\n",
       "      <td>24</td>\n",
       "      <td>2011-01-24</td>\n",
       "      <td>primavera</td>\n",
       "      <td>2011</td>\n",
       "      <td>Enero</td>\n",
       "      <td>no</td>\n",
       "      <td>Lun</td>\n",
       "      <td>si</td>\n",
       "      <td>despejado</td>\n",
       "      <td>0.097391</td>\n",
       "      <td>0.117930</td>\n",
       "      <td>0.491739</td>\n",
       "      <td>0.158330</td>\n",
       "      <td>86</td>\n",
       "      <td>1330</td>\n",
       "      <td>1416</td>\n",
       "    </tr>\n",
       "    <tr>\n",
       "      <th>24</th>\n",
       "      <td>25</td>\n",
       "      <td>2011-01-25</td>\n",
       "      <td>primavera</td>\n",
       "      <td>2011</td>\n",
       "      <td>Enero</td>\n",
       "      <td>no</td>\n",
       "      <td>Mar</td>\n",
       "      <td>si</td>\n",
       "      <td>nublado</td>\n",
       "      <td>0.223478</td>\n",
       "      <td>0.234526</td>\n",
       "      <td>0.616957</td>\n",
       "      <td>0.129796</td>\n",
       "      <td>186</td>\n",
       "      <td>1799</td>\n",
       "      <td>1985</td>\n",
       "    </tr>\n",
       "    <tr>\n",
       "      <th>25</th>\n",
       "      <td>26</td>\n",
       "      <td>2011-01-26</td>\n",
       "      <td>primavera</td>\n",
       "      <td>2011</td>\n",
       "      <td>Enero</td>\n",
       "      <td>no</td>\n",
       "      <td>Mier</td>\n",
       "      <td>si</td>\n",
       "      <td>precipitaciones_leves</td>\n",
       "      <td>0.217500</td>\n",
       "      <td>0.203600</td>\n",
       "      <td>0.862500</td>\n",
       "      <td>0.293850</td>\n",
       "      <td>34</td>\n",
       "      <td>472</td>\n",
       "      <td>506</td>\n",
       "    </tr>\n",
       "    <tr>\n",
       "      <th>26</th>\n",
       "      <td>27</td>\n",
       "      <td>2011-01-27</td>\n",
       "      <td>primavera</td>\n",
       "      <td>2011</td>\n",
       "      <td>Enero</td>\n",
       "      <td>no</td>\n",
       "      <td>Jue</td>\n",
       "      <td>si</td>\n",
       "      <td>despejado</td>\n",
       "      <td>0.195000</td>\n",
       "      <td>0.219700</td>\n",
       "      <td>0.687500</td>\n",
       "      <td>0.113837</td>\n",
       "      <td>15</td>\n",
       "      <td>416</td>\n",
       "      <td>431</td>\n",
       "    </tr>\n",
       "    <tr>\n",
       "      <th>27</th>\n",
       "      <td>28</td>\n",
       "      <td>2011-01-28</td>\n",
       "      <td>primavera</td>\n",
       "      <td>2011</td>\n",
       "      <td>Enero</td>\n",
       "      <td>no</td>\n",
       "      <td>Vie</td>\n",
       "      <td>si</td>\n",
       "      <td>nublado</td>\n",
       "      <td>0.203478</td>\n",
       "      <td>0.223317</td>\n",
       "      <td>0.793043</td>\n",
       "      <td>0.123300</td>\n",
       "      <td>38</td>\n",
       "      <td>1129</td>\n",
       "      <td>1167</td>\n",
       "    </tr>\n",
       "    <tr>\n",
       "      <th>28</th>\n",
       "      <td>29</td>\n",
       "      <td>2011-01-29</td>\n",
       "      <td>primavera</td>\n",
       "      <td>2011</td>\n",
       "      <td>Enero</td>\n",
       "      <td>no</td>\n",
       "      <td>Sat</td>\n",
       "      <td>no</td>\n",
       "      <td>despejado</td>\n",
       "      <td>0.196522</td>\n",
       "      <td>0.212126</td>\n",
       "      <td>0.651739</td>\n",
       "      <td>0.145365</td>\n",
       "      <td>123</td>\n",
       "      <td>975</td>\n",
       "      <td>1098</td>\n",
       "    </tr>\n",
       "    <tr>\n",
       "      <th>29</th>\n",
       "      <td>30</td>\n",
       "      <td>2011-01-30</td>\n",
       "      <td>primavera</td>\n",
       "      <td>2011</td>\n",
       "      <td>Enero</td>\n",
       "      <td>no</td>\n",
       "      <td>Dom</td>\n",
       "      <td>no</td>\n",
       "      <td>despejado</td>\n",
       "      <td>0.216522</td>\n",
       "      <td>0.250322</td>\n",
       "      <td>0.722174</td>\n",
       "      <td>0.073983</td>\n",
       "      <td>140</td>\n",
       "      <td>956</td>\n",
       "      <td>1096</td>\n",
       "    </tr>\n",
       "    <tr>\n",
       "      <th>...</th>\n",
       "      <td>...</td>\n",
       "      <td>...</td>\n",
       "      <td>...</td>\n",
       "      <td>...</td>\n",
       "      <td>...</td>\n",
       "      <td>...</td>\n",
       "      <td>...</td>\n",
       "      <td>...</td>\n",
       "      <td>...</td>\n",
       "      <td>...</td>\n",
       "      <td>...</td>\n",
       "      <td>...</td>\n",
       "      <td>...</td>\n",
       "      <td>...</td>\n",
       "      <td>...</td>\n",
       "      <td>...</td>\n",
       "    </tr>\n",
       "    <tr>\n",
       "      <th>701</th>\n",
       "      <td>702</td>\n",
       "      <td>2012-12-02</td>\n",
       "      <td>invierno</td>\n",
       "      <td>2012</td>\n",
       "      <td>Diciembre</td>\n",
       "      <td>no</td>\n",
       "      <td>Dom</td>\n",
       "      <td>no</td>\n",
       "      <td>nublado</td>\n",
       "      <td>0.347500</td>\n",
       "      <td>0.359208</td>\n",
       "      <td>0.823333</td>\n",
       "      <td>0.124379</td>\n",
       "      <td>892</td>\n",
       "      <td>3757</td>\n",
       "      <td>4649</td>\n",
       "    </tr>\n",
       "    <tr>\n",
       "      <th>702</th>\n",
       "      <td>703</td>\n",
       "      <td>2012-12-03</td>\n",
       "      <td>invierno</td>\n",
       "      <td>2012</td>\n",
       "      <td>Diciembre</td>\n",
       "      <td>no</td>\n",
       "      <td>Lun</td>\n",
       "      <td>si</td>\n",
       "      <td>despejado</td>\n",
       "      <td>0.452500</td>\n",
       "      <td>0.455796</td>\n",
       "      <td>0.767500</td>\n",
       "      <td>0.082721</td>\n",
       "      <td>555</td>\n",
       "      <td>5679</td>\n",
       "      <td>6234</td>\n",
       "    </tr>\n",
       "    <tr>\n",
       "      <th>703</th>\n",
       "      <td>704</td>\n",
       "      <td>2012-12-04</td>\n",
       "      <td>invierno</td>\n",
       "      <td>2012</td>\n",
       "      <td>Diciembre</td>\n",
       "      <td>no</td>\n",
       "      <td>Mar</td>\n",
       "      <td>si</td>\n",
       "      <td>despejado</td>\n",
       "      <td>0.475833</td>\n",
       "      <td>0.469054</td>\n",
       "      <td>0.733750</td>\n",
       "      <td>0.174129</td>\n",
       "      <td>551</td>\n",
       "      <td>6055</td>\n",
       "      <td>6606</td>\n",
       "    </tr>\n",
       "    <tr>\n",
       "      <th>704</th>\n",
       "      <td>705</td>\n",
       "      <td>2012-12-05</td>\n",
       "      <td>invierno</td>\n",
       "      <td>2012</td>\n",
       "      <td>Diciembre</td>\n",
       "      <td>no</td>\n",
       "      <td>Mier</td>\n",
       "      <td>si</td>\n",
       "      <td>despejado</td>\n",
       "      <td>0.438333</td>\n",
       "      <td>0.428012</td>\n",
       "      <td>0.485000</td>\n",
       "      <td>0.324021</td>\n",
       "      <td>331</td>\n",
       "      <td>5398</td>\n",
       "      <td>5729</td>\n",
       "    </tr>\n",
       "    <tr>\n",
       "      <th>705</th>\n",
       "      <td>706</td>\n",
       "      <td>2012-12-06</td>\n",
       "      <td>invierno</td>\n",
       "      <td>2012</td>\n",
       "      <td>Diciembre</td>\n",
       "      <td>no</td>\n",
       "      <td>Jue</td>\n",
       "      <td>si</td>\n",
       "      <td>despejado</td>\n",
       "      <td>0.255833</td>\n",
       "      <td>0.258204</td>\n",
       "      <td>0.508750</td>\n",
       "      <td>0.174754</td>\n",
       "      <td>340</td>\n",
       "      <td>5035</td>\n",
       "      <td>5375</td>\n",
       "    </tr>\n",
       "    <tr>\n",
       "      <th>706</th>\n",
       "      <td>707</td>\n",
       "      <td>2012-12-07</td>\n",
       "      <td>invierno</td>\n",
       "      <td>2012</td>\n",
       "      <td>Diciembre</td>\n",
       "      <td>no</td>\n",
       "      <td>Vie</td>\n",
       "      <td>si</td>\n",
       "      <td>nublado</td>\n",
       "      <td>0.320833</td>\n",
       "      <td>0.321958</td>\n",
       "      <td>0.764167</td>\n",
       "      <td>0.130600</td>\n",
       "      <td>349</td>\n",
       "      <td>4659</td>\n",
       "      <td>5008</td>\n",
       "    </tr>\n",
       "    <tr>\n",
       "      <th>707</th>\n",
       "      <td>708</td>\n",
       "      <td>2012-12-08</td>\n",
       "      <td>invierno</td>\n",
       "      <td>2012</td>\n",
       "      <td>Diciembre</td>\n",
       "      <td>no</td>\n",
       "      <td>Sat</td>\n",
       "      <td>no</td>\n",
       "      <td>nublado</td>\n",
       "      <td>0.381667</td>\n",
       "      <td>0.389508</td>\n",
       "      <td>0.911250</td>\n",
       "      <td>0.101379</td>\n",
       "      <td>1153</td>\n",
       "      <td>4429</td>\n",
       "      <td>5582</td>\n",
       "    </tr>\n",
       "    <tr>\n",
       "      <th>708</th>\n",
       "      <td>709</td>\n",
       "      <td>2012-12-09</td>\n",
       "      <td>invierno</td>\n",
       "      <td>2012</td>\n",
       "      <td>Diciembre</td>\n",
       "      <td>no</td>\n",
       "      <td>Dom</td>\n",
       "      <td>no</td>\n",
       "      <td>nublado</td>\n",
       "      <td>0.384167</td>\n",
       "      <td>0.390146</td>\n",
       "      <td>0.905417</td>\n",
       "      <td>0.157975</td>\n",
       "      <td>441</td>\n",
       "      <td>2787</td>\n",
       "      <td>3228</td>\n",
       "    </tr>\n",
       "    <tr>\n",
       "      <th>709</th>\n",
       "      <td>710</td>\n",
       "      <td>2012-12-10</td>\n",
       "      <td>invierno</td>\n",
       "      <td>2012</td>\n",
       "      <td>Diciembre</td>\n",
       "      <td>no</td>\n",
       "      <td>Lun</td>\n",
       "      <td>si</td>\n",
       "      <td>nublado</td>\n",
       "      <td>0.435833</td>\n",
       "      <td>0.435575</td>\n",
       "      <td>0.925000</td>\n",
       "      <td>0.190308</td>\n",
       "      <td>329</td>\n",
       "      <td>4841</td>\n",
       "      <td>5170</td>\n",
       "    </tr>\n",
       "    <tr>\n",
       "      <th>710</th>\n",
       "      <td>711</td>\n",
       "      <td>2012-12-11</td>\n",
       "      <td>invierno</td>\n",
       "      <td>2012</td>\n",
       "      <td>Diciembre</td>\n",
       "      <td>no</td>\n",
       "      <td>Mar</td>\n",
       "      <td>si</td>\n",
       "      <td>nublado</td>\n",
       "      <td>0.353333</td>\n",
       "      <td>0.338363</td>\n",
       "      <td>0.596667</td>\n",
       "      <td>0.296037</td>\n",
       "      <td>282</td>\n",
       "      <td>5219</td>\n",
       "      <td>5501</td>\n",
       "    </tr>\n",
       "    <tr>\n",
       "      <th>711</th>\n",
       "      <td>712</td>\n",
       "      <td>2012-12-12</td>\n",
       "      <td>invierno</td>\n",
       "      <td>2012</td>\n",
       "      <td>Diciembre</td>\n",
       "      <td>no</td>\n",
       "      <td>Mier</td>\n",
       "      <td>si</td>\n",
       "      <td>nublado</td>\n",
       "      <td>0.297500</td>\n",
       "      <td>0.297338</td>\n",
       "      <td>0.538333</td>\n",
       "      <td>0.162937</td>\n",
       "      <td>310</td>\n",
       "      <td>5009</td>\n",
       "      <td>5319</td>\n",
       "    </tr>\n",
       "    <tr>\n",
       "      <th>712</th>\n",
       "      <td>713</td>\n",
       "      <td>2012-12-13</td>\n",
       "      <td>invierno</td>\n",
       "      <td>2012</td>\n",
       "      <td>Diciembre</td>\n",
       "      <td>no</td>\n",
       "      <td>Jue</td>\n",
       "      <td>si</td>\n",
       "      <td>despejado</td>\n",
       "      <td>0.295833</td>\n",
       "      <td>0.294188</td>\n",
       "      <td>0.485833</td>\n",
       "      <td>0.174129</td>\n",
       "      <td>425</td>\n",
       "      <td>5107</td>\n",
       "      <td>5532</td>\n",
       "    </tr>\n",
       "    <tr>\n",
       "      <th>713</th>\n",
       "      <td>714</td>\n",
       "      <td>2012-12-14</td>\n",
       "      <td>invierno</td>\n",
       "      <td>2012</td>\n",
       "      <td>Diciembre</td>\n",
       "      <td>no</td>\n",
       "      <td>Vie</td>\n",
       "      <td>si</td>\n",
       "      <td>despejado</td>\n",
       "      <td>0.281667</td>\n",
       "      <td>0.294192</td>\n",
       "      <td>0.642917</td>\n",
       "      <td>0.131229</td>\n",
       "      <td>429</td>\n",
       "      <td>5182</td>\n",
       "      <td>5611</td>\n",
       "    </tr>\n",
       "    <tr>\n",
       "      <th>714</th>\n",
       "      <td>715</td>\n",
       "      <td>2012-12-15</td>\n",
       "      <td>invierno</td>\n",
       "      <td>2012</td>\n",
       "      <td>Diciembre</td>\n",
       "      <td>no</td>\n",
       "      <td>Sat</td>\n",
       "      <td>no</td>\n",
       "      <td>despejado</td>\n",
       "      <td>0.324167</td>\n",
       "      <td>0.338383</td>\n",
       "      <td>0.650417</td>\n",
       "      <td>0.106350</td>\n",
       "      <td>767</td>\n",
       "      <td>4280</td>\n",
       "      <td>5047</td>\n",
       "    </tr>\n",
       "    <tr>\n",
       "      <th>715</th>\n",
       "      <td>716</td>\n",
       "      <td>2012-12-16</td>\n",
       "      <td>invierno</td>\n",
       "      <td>2012</td>\n",
       "      <td>Diciembre</td>\n",
       "      <td>no</td>\n",
       "      <td>Dom</td>\n",
       "      <td>no</td>\n",
       "      <td>nublado</td>\n",
       "      <td>0.362500</td>\n",
       "      <td>0.369938</td>\n",
       "      <td>0.838750</td>\n",
       "      <td>0.100742</td>\n",
       "      <td>538</td>\n",
       "      <td>3248</td>\n",
       "      <td>3786</td>\n",
       "    </tr>\n",
       "    <tr>\n",
       "      <th>716</th>\n",
       "      <td>717</td>\n",
       "      <td>2012-12-17</td>\n",
       "      <td>invierno</td>\n",
       "      <td>2012</td>\n",
       "      <td>Diciembre</td>\n",
       "      <td>no</td>\n",
       "      <td>Lun</td>\n",
       "      <td>si</td>\n",
       "      <td>nublado</td>\n",
       "      <td>0.393333</td>\n",
       "      <td>0.401500</td>\n",
       "      <td>0.907083</td>\n",
       "      <td>0.098258</td>\n",
       "      <td>212</td>\n",
       "      <td>4373</td>\n",
       "      <td>4585</td>\n",
       "    </tr>\n",
       "    <tr>\n",
       "      <th>717</th>\n",
       "      <td>718</td>\n",
       "      <td>2012-12-18</td>\n",
       "      <td>invierno</td>\n",
       "      <td>2012</td>\n",
       "      <td>Diciembre</td>\n",
       "      <td>no</td>\n",
       "      <td>Mar</td>\n",
       "      <td>si</td>\n",
       "      <td>despejado</td>\n",
       "      <td>0.410833</td>\n",
       "      <td>0.409708</td>\n",
       "      <td>0.666250</td>\n",
       "      <td>0.221404</td>\n",
       "      <td>433</td>\n",
       "      <td>5124</td>\n",
       "      <td>5557</td>\n",
       "    </tr>\n",
       "    <tr>\n",
       "      <th>718</th>\n",
       "      <td>719</td>\n",
       "      <td>2012-12-19</td>\n",
       "      <td>invierno</td>\n",
       "      <td>2012</td>\n",
       "      <td>Diciembre</td>\n",
       "      <td>no</td>\n",
       "      <td>Mier</td>\n",
       "      <td>si</td>\n",
       "      <td>despejado</td>\n",
       "      <td>0.332500</td>\n",
       "      <td>0.342162</td>\n",
       "      <td>0.625417</td>\n",
       "      <td>0.184092</td>\n",
       "      <td>333</td>\n",
       "      <td>4934</td>\n",
       "      <td>5267</td>\n",
       "    </tr>\n",
       "    <tr>\n",
       "      <th>719</th>\n",
       "      <td>720</td>\n",
       "      <td>2012-12-20</td>\n",
       "      <td>invierno</td>\n",
       "      <td>2012</td>\n",
       "      <td>Diciembre</td>\n",
       "      <td>no</td>\n",
       "      <td>Jue</td>\n",
       "      <td>si</td>\n",
       "      <td>nublado</td>\n",
       "      <td>0.330000</td>\n",
       "      <td>0.335217</td>\n",
       "      <td>0.667917</td>\n",
       "      <td>0.132463</td>\n",
       "      <td>314</td>\n",
       "      <td>3814</td>\n",
       "      <td>4128</td>\n",
       "    </tr>\n",
       "    <tr>\n",
       "      <th>720</th>\n",
       "      <td>721</td>\n",
       "      <td>2012-12-21</td>\n",
       "      <td>primavera</td>\n",
       "      <td>2012</td>\n",
       "      <td>Diciembre</td>\n",
       "      <td>no</td>\n",
       "      <td>Vie</td>\n",
       "      <td>si</td>\n",
       "      <td>nublado</td>\n",
       "      <td>0.326667</td>\n",
       "      <td>0.301767</td>\n",
       "      <td>0.556667</td>\n",
       "      <td>0.374383</td>\n",
       "      <td>221</td>\n",
       "      <td>3402</td>\n",
       "      <td>3623</td>\n",
       "    </tr>\n",
       "    <tr>\n",
       "      <th>721</th>\n",
       "      <td>722</td>\n",
       "      <td>2012-12-22</td>\n",
       "      <td>primavera</td>\n",
       "      <td>2012</td>\n",
       "      <td>Diciembre</td>\n",
       "      <td>no</td>\n",
       "      <td>Sat</td>\n",
       "      <td>no</td>\n",
       "      <td>despejado</td>\n",
       "      <td>0.265833</td>\n",
       "      <td>0.236113</td>\n",
       "      <td>0.441250</td>\n",
       "      <td>0.407346</td>\n",
       "      <td>205</td>\n",
       "      <td>1544</td>\n",
       "      <td>1749</td>\n",
       "    </tr>\n",
       "    <tr>\n",
       "      <th>722</th>\n",
       "      <td>723</td>\n",
       "      <td>2012-12-23</td>\n",
       "      <td>primavera</td>\n",
       "      <td>2012</td>\n",
       "      <td>Diciembre</td>\n",
       "      <td>no</td>\n",
       "      <td>Dom</td>\n",
       "      <td>no</td>\n",
       "      <td>despejado</td>\n",
       "      <td>0.245833</td>\n",
       "      <td>0.259471</td>\n",
       "      <td>0.515417</td>\n",
       "      <td>0.133083</td>\n",
       "      <td>408</td>\n",
       "      <td>1379</td>\n",
       "      <td>1787</td>\n",
       "    </tr>\n",
       "    <tr>\n",
       "      <th>723</th>\n",
       "      <td>724</td>\n",
       "      <td>2012-12-24</td>\n",
       "      <td>primavera</td>\n",
       "      <td>2012</td>\n",
       "      <td>Diciembre</td>\n",
       "      <td>no</td>\n",
       "      <td>Lun</td>\n",
       "      <td>si</td>\n",
       "      <td>nublado</td>\n",
       "      <td>0.231304</td>\n",
       "      <td>0.258900</td>\n",
       "      <td>0.791304</td>\n",
       "      <td>0.077230</td>\n",
       "      <td>174</td>\n",
       "      <td>746</td>\n",
       "      <td>920</td>\n",
       "    </tr>\n",
       "    <tr>\n",
       "      <th>724</th>\n",
       "      <td>725</td>\n",
       "      <td>2012-12-25</td>\n",
       "      <td>primavera</td>\n",
       "      <td>2012</td>\n",
       "      <td>Diciembre</td>\n",
       "      <td>si</td>\n",
       "      <td>Mar</td>\n",
       "      <td>no</td>\n",
       "      <td>nublado</td>\n",
       "      <td>0.291304</td>\n",
       "      <td>0.294465</td>\n",
       "      <td>0.734783</td>\n",
       "      <td>0.168726</td>\n",
       "      <td>440</td>\n",
       "      <td>573</td>\n",
       "      <td>1013</td>\n",
       "    </tr>\n",
       "    <tr>\n",
       "      <th>725</th>\n",
       "      <td>726</td>\n",
       "      <td>2012-12-26</td>\n",
       "      <td>primavera</td>\n",
       "      <td>2012</td>\n",
       "      <td>Diciembre</td>\n",
       "      <td>no</td>\n",
       "      <td>Mier</td>\n",
       "      <td>si</td>\n",
       "      <td>precipitaciones_leves</td>\n",
       "      <td>0.243333</td>\n",
       "      <td>0.220333</td>\n",
       "      <td>0.823333</td>\n",
       "      <td>0.316546</td>\n",
       "      <td>9</td>\n",
       "      <td>432</td>\n",
       "      <td>441</td>\n",
       "    </tr>\n",
       "    <tr>\n",
       "      <th>726</th>\n",
       "      <td>727</td>\n",
       "      <td>2012-12-27</td>\n",
       "      <td>primavera</td>\n",
       "      <td>2012</td>\n",
       "      <td>Diciembre</td>\n",
       "      <td>no</td>\n",
       "      <td>Jue</td>\n",
       "      <td>si</td>\n",
       "      <td>nublado</td>\n",
       "      <td>0.254167</td>\n",
       "      <td>0.226642</td>\n",
       "      <td>0.652917</td>\n",
       "      <td>0.350133</td>\n",
       "      <td>247</td>\n",
       "      <td>1867</td>\n",
       "      <td>2114</td>\n",
       "    </tr>\n",
       "    <tr>\n",
       "      <th>727</th>\n",
       "      <td>728</td>\n",
       "      <td>2012-12-28</td>\n",
       "      <td>primavera</td>\n",
       "      <td>2012</td>\n",
       "      <td>Diciembre</td>\n",
       "      <td>no</td>\n",
       "      <td>Vie</td>\n",
       "      <td>si</td>\n",
       "      <td>nublado</td>\n",
       "      <td>0.253333</td>\n",
       "      <td>0.255046</td>\n",
       "      <td>0.590000</td>\n",
       "      <td>0.155471</td>\n",
       "      <td>644</td>\n",
       "      <td>2451</td>\n",
       "      <td>3095</td>\n",
       "    </tr>\n",
       "    <tr>\n",
       "      <th>728</th>\n",
       "      <td>729</td>\n",
       "      <td>2012-12-29</td>\n",
       "      <td>primavera</td>\n",
       "      <td>2012</td>\n",
       "      <td>Diciembre</td>\n",
       "      <td>no</td>\n",
       "      <td>Sat</td>\n",
       "      <td>no</td>\n",
       "      <td>nublado</td>\n",
       "      <td>0.253333</td>\n",
       "      <td>0.242400</td>\n",
       "      <td>0.752917</td>\n",
       "      <td>0.124383</td>\n",
       "      <td>159</td>\n",
       "      <td>1182</td>\n",
       "      <td>1341</td>\n",
       "    </tr>\n",
       "    <tr>\n",
       "      <th>729</th>\n",
       "      <td>730</td>\n",
       "      <td>2012-12-30</td>\n",
       "      <td>primavera</td>\n",
       "      <td>2012</td>\n",
       "      <td>Diciembre</td>\n",
       "      <td>no</td>\n",
       "      <td>Dom</td>\n",
       "      <td>no</td>\n",
       "      <td>despejado</td>\n",
       "      <td>0.255833</td>\n",
       "      <td>0.231700</td>\n",
       "      <td>0.483333</td>\n",
       "      <td>0.350754</td>\n",
       "      <td>364</td>\n",
       "      <td>1432</td>\n",
       "      <td>1796</td>\n",
       "    </tr>\n",
       "    <tr>\n",
       "      <th>730</th>\n",
       "      <td>731</td>\n",
       "      <td>2012-12-31</td>\n",
       "      <td>primavera</td>\n",
       "      <td>2012</td>\n",
       "      <td>Diciembre</td>\n",
       "      <td>no</td>\n",
       "      <td>Lun</td>\n",
       "      <td>si</td>\n",
       "      <td>nublado</td>\n",
       "      <td>0.215833</td>\n",
       "      <td>0.223487</td>\n",
       "      <td>0.577500</td>\n",
       "      <td>0.154846</td>\n",
       "      <td>439</td>\n",
       "      <td>2290</td>\n",
       "      <td>2729</td>\n",
       "    </tr>\n",
       "  </tbody>\n",
       "</table>\n",
       "<p>731 rows × 16 columns</p>\n",
       "</div>"
      ],
      "text/plain": [
       "     instant      dteday     season    yr       mnth holiday weekday  \\\n",
       "0          1  2011-01-01  primavera  2011      Enero      no     Sat   \n",
       "1          2  2011-01-02  primavera  2011      Enero      no     Dom   \n",
       "2          3  2011-01-03  primavera  2011      Enero      no     Lun   \n",
       "3          4  2011-01-04  primavera  2011      Enero      no     Mar   \n",
       "4          5  2011-01-05  primavera  2011      Enero      no    Mier   \n",
       "5          6  2011-01-06  primavera  2011      Enero      no     Jue   \n",
       "6          7  2011-01-07  primavera  2011      Enero      no     Vie   \n",
       "7          8  2011-01-08  primavera  2011      Enero      no     Sat   \n",
       "8          9  2011-01-09  primavera  2011      Enero      no     Dom   \n",
       "9         10  2011-01-10  primavera  2011      Enero      no     Lun   \n",
       "10        11  2011-01-11  primavera  2011      Enero      no     Mar   \n",
       "11        12  2011-01-12  primavera  2011      Enero      no    Mier   \n",
       "12        13  2011-01-13  primavera  2011      Enero      no     Jue   \n",
       "13        14  2011-01-14  primavera  2011      Enero      no     Vie   \n",
       "14        15  2011-01-15  primavera  2011      Enero      no     Sat   \n",
       "15        16  2011-01-16  primavera  2011      Enero      no     Dom   \n",
       "16        17  2011-01-17  primavera  2011      Enero      si     Lun   \n",
       "17        18  2011-01-18  primavera  2011      Enero      no     Mar   \n",
       "18        19  2011-01-19  primavera  2011      Enero      no    Mier   \n",
       "19        20  2011-01-20  primavera  2011      Enero      no     Jue   \n",
       "20        21  2011-01-21  primavera  2011      Enero      no     Vie   \n",
       "21        22  2011-01-22  primavera  2011      Enero      no     Sat   \n",
       "22        23  2011-01-23  primavera  2011      Enero      no     Dom   \n",
       "23        24  2011-01-24  primavera  2011      Enero      no     Lun   \n",
       "24        25  2011-01-25  primavera  2011      Enero      no     Mar   \n",
       "25        26  2011-01-26  primavera  2011      Enero      no    Mier   \n",
       "26        27  2011-01-27  primavera  2011      Enero      no     Jue   \n",
       "27        28  2011-01-28  primavera  2011      Enero      no     Vie   \n",
       "28        29  2011-01-29  primavera  2011      Enero      no     Sat   \n",
       "29        30  2011-01-30  primavera  2011      Enero      no     Dom   \n",
       "..       ...         ...        ...   ...        ...     ...     ...   \n",
       "701      702  2012-12-02   invierno  2012  Diciembre      no     Dom   \n",
       "702      703  2012-12-03   invierno  2012  Diciembre      no     Lun   \n",
       "703      704  2012-12-04   invierno  2012  Diciembre      no     Mar   \n",
       "704      705  2012-12-05   invierno  2012  Diciembre      no    Mier   \n",
       "705      706  2012-12-06   invierno  2012  Diciembre      no     Jue   \n",
       "706      707  2012-12-07   invierno  2012  Diciembre      no     Vie   \n",
       "707      708  2012-12-08   invierno  2012  Diciembre      no     Sat   \n",
       "708      709  2012-12-09   invierno  2012  Diciembre      no     Dom   \n",
       "709      710  2012-12-10   invierno  2012  Diciembre      no     Lun   \n",
       "710      711  2012-12-11   invierno  2012  Diciembre      no     Mar   \n",
       "711      712  2012-12-12   invierno  2012  Diciembre      no    Mier   \n",
       "712      713  2012-12-13   invierno  2012  Diciembre      no     Jue   \n",
       "713      714  2012-12-14   invierno  2012  Diciembre      no     Vie   \n",
       "714      715  2012-12-15   invierno  2012  Diciembre      no     Sat   \n",
       "715      716  2012-12-16   invierno  2012  Diciembre      no     Dom   \n",
       "716      717  2012-12-17   invierno  2012  Diciembre      no     Lun   \n",
       "717      718  2012-12-18   invierno  2012  Diciembre      no     Mar   \n",
       "718      719  2012-12-19   invierno  2012  Diciembre      no    Mier   \n",
       "719      720  2012-12-20   invierno  2012  Diciembre      no     Jue   \n",
       "720      721  2012-12-21  primavera  2012  Diciembre      no     Vie   \n",
       "721      722  2012-12-22  primavera  2012  Diciembre      no     Sat   \n",
       "722      723  2012-12-23  primavera  2012  Diciembre      no     Dom   \n",
       "723      724  2012-12-24  primavera  2012  Diciembre      no     Lun   \n",
       "724      725  2012-12-25  primavera  2012  Diciembre      si     Mar   \n",
       "725      726  2012-12-26  primavera  2012  Diciembre      no    Mier   \n",
       "726      727  2012-12-27  primavera  2012  Diciembre      no     Jue   \n",
       "727      728  2012-12-28  primavera  2012  Diciembre      no     Vie   \n",
       "728      729  2012-12-29  primavera  2012  Diciembre      no     Sat   \n",
       "729      730  2012-12-30  primavera  2012  Diciembre      no     Dom   \n",
       "730      731  2012-12-31  primavera  2012  Diciembre      no     Lun   \n",
       "\n",
       "    workingday             weathersit      temp     atemp       hum  \\\n",
       "0           no                nublado  0.344167  0.363625  0.805833   \n",
       "1           no                nublado  0.363478  0.353739  0.696087   \n",
       "2           si              despejado  0.196364  0.189405  0.437273   \n",
       "3           si              despejado  0.200000  0.212122  0.590435   \n",
       "4           si              despejado  0.226957  0.229270  0.436957   \n",
       "5           si              despejado  0.204348  0.233209  0.518261   \n",
       "6           si                nublado  0.196522  0.208839  0.498696   \n",
       "7           no                nublado  0.165000  0.162254  0.535833   \n",
       "8           no              despejado  0.138333  0.116175  0.434167   \n",
       "9           si              despejado  0.150833  0.150888  0.482917   \n",
       "10          si                nublado  0.169091  0.191464  0.686364   \n",
       "11          si              despejado  0.172727  0.160473  0.599545   \n",
       "12          si              despejado  0.165000  0.150883  0.470417   \n",
       "13          si              despejado  0.160870  0.188413  0.537826   \n",
       "14          no                nublado  0.233333  0.248112  0.498750   \n",
       "15          no              despejado  0.231667  0.234217  0.483750   \n",
       "16          no                nublado  0.175833  0.176771  0.537500   \n",
       "17          si                nublado  0.216667  0.232333  0.861667   \n",
       "18          si                nublado  0.292174  0.298422  0.741739   \n",
       "19          si                nublado  0.261667  0.255050  0.538333   \n",
       "20          si              despejado  0.177500  0.157833  0.457083   \n",
       "21          no              despejado  0.059130  0.079070  0.400000   \n",
       "22          no              despejado  0.096522  0.098839  0.436522   \n",
       "23          si              despejado  0.097391  0.117930  0.491739   \n",
       "24          si                nublado  0.223478  0.234526  0.616957   \n",
       "25          si  precipitaciones_leves  0.217500  0.203600  0.862500   \n",
       "26          si              despejado  0.195000  0.219700  0.687500   \n",
       "27          si                nublado  0.203478  0.223317  0.793043   \n",
       "28          no              despejado  0.196522  0.212126  0.651739   \n",
       "29          no              despejado  0.216522  0.250322  0.722174   \n",
       "..         ...                    ...       ...       ...       ...   \n",
       "701         no                nublado  0.347500  0.359208  0.823333   \n",
       "702         si              despejado  0.452500  0.455796  0.767500   \n",
       "703         si              despejado  0.475833  0.469054  0.733750   \n",
       "704         si              despejado  0.438333  0.428012  0.485000   \n",
       "705         si              despejado  0.255833  0.258204  0.508750   \n",
       "706         si                nublado  0.320833  0.321958  0.764167   \n",
       "707         no                nublado  0.381667  0.389508  0.911250   \n",
       "708         no                nublado  0.384167  0.390146  0.905417   \n",
       "709         si                nublado  0.435833  0.435575  0.925000   \n",
       "710         si                nublado  0.353333  0.338363  0.596667   \n",
       "711         si                nublado  0.297500  0.297338  0.538333   \n",
       "712         si              despejado  0.295833  0.294188  0.485833   \n",
       "713         si              despejado  0.281667  0.294192  0.642917   \n",
       "714         no              despejado  0.324167  0.338383  0.650417   \n",
       "715         no                nublado  0.362500  0.369938  0.838750   \n",
       "716         si                nublado  0.393333  0.401500  0.907083   \n",
       "717         si              despejado  0.410833  0.409708  0.666250   \n",
       "718         si              despejado  0.332500  0.342162  0.625417   \n",
       "719         si                nublado  0.330000  0.335217  0.667917   \n",
       "720         si                nublado  0.326667  0.301767  0.556667   \n",
       "721         no              despejado  0.265833  0.236113  0.441250   \n",
       "722         no              despejado  0.245833  0.259471  0.515417   \n",
       "723         si                nublado  0.231304  0.258900  0.791304   \n",
       "724         no                nublado  0.291304  0.294465  0.734783   \n",
       "725         si  precipitaciones_leves  0.243333  0.220333  0.823333   \n",
       "726         si                nublado  0.254167  0.226642  0.652917   \n",
       "727         si                nublado  0.253333  0.255046  0.590000   \n",
       "728         no                nublado  0.253333  0.242400  0.752917   \n",
       "729         no              despejado  0.255833  0.231700  0.483333   \n",
       "730         si                nublado  0.215833  0.223487  0.577500   \n",
       "\n",
       "     windspeed  casual  registered   cnt  \n",
       "0     0.160446     331         654   985  \n",
       "1     0.248539     131         670   801  \n",
       "2     0.248309     120        1229  1349  \n",
       "3     0.160296     108        1454  1562  \n",
       "4     0.186900      82        1518  1600  \n",
       "5     0.089565      88        1518  1606  \n",
       "6     0.168726     148        1362  1510  \n",
       "7     0.266804      68         891   959  \n",
       "8     0.361950      54         768   822  \n",
       "9     0.223267      41        1280  1321  \n",
       "10    0.122132      43        1220  1263  \n",
       "11    0.304627      25        1137  1162  \n",
       "12    0.301000      38        1368  1406  \n",
       "13    0.126548      54        1367  1421  \n",
       "14    0.157963     222        1026  1248  \n",
       "15    0.188433     251         953  1204  \n",
       "16    0.194017     117         883  1000  \n",
       "17    0.146775       9         674   683  \n",
       "18    0.208317      78        1572  1650  \n",
       "19    0.195904      83        1844  1927  \n",
       "20    0.353242      75        1468  1543  \n",
       "21    0.171970      93         888   981  \n",
       "22    0.246600     150         836   986  \n",
       "23    0.158330      86        1330  1416  \n",
       "24    0.129796     186        1799  1985  \n",
       "25    0.293850      34         472   506  \n",
       "26    0.113837      15         416   431  \n",
       "27    0.123300      38        1129  1167  \n",
       "28    0.145365     123         975  1098  \n",
       "29    0.073983     140         956  1096  \n",
       "..         ...     ...         ...   ...  \n",
       "701   0.124379     892        3757  4649  \n",
       "702   0.082721     555        5679  6234  \n",
       "703   0.174129     551        6055  6606  \n",
       "704   0.324021     331        5398  5729  \n",
       "705   0.174754     340        5035  5375  \n",
       "706   0.130600     349        4659  5008  \n",
       "707   0.101379    1153        4429  5582  \n",
       "708   0.157975     441        2787  3228  \n",
       "709   0.190308     329        4841  5170  \n",
       "710   0.296037     282        5219  5501  \n",
       "711   0.162937     310        5009  5319  \n",
       "712   0.174129     425        5107  5532  \n",
       "713   0.131229     429        5182  5611  \n",
       "714   0.106350     767        4280  5047  \n",
       "715   0.100742     538        3248  3786  \n",
       "716   0.098258     212        4373  4585  \n",
       "717   0.221404     433        5124  5557  \n",
       "718   0.184092     333        4934  5267  \n",
       "719   0.132463     314        3814  4128  \n",
       "720   0.374383     221        3402  3623  \n",
       "721   0.407346     205        1544  1749  \n",
       "722   0.133083     408        1379  1787  \n",
       "723   0.077230     174         746   920  \n",
       "724   0.168726     440         573  1013  \n",
       "725   0.316546       9         432   441  \n",
       "726   0.350133     247        1867  2114  \n",
       "727   0.155471     644        2451  3095  \n",
       "728   0.124383     159        1182  1341  \n",
       "729   0.350754     364        1432  1796  \n",
       "730   0.154846     439        2290  2729  \n",
       "\n",
       "[731 rows x 16 columns]"
      ]
     },
     "execution_count": 116,
     "metadata": {},
     "output_type": "execute_result"
    }
   ],
   "source": [
    "data"
   ]
  },
  {
   "cell_type": "markdown",
   "metadata": {
    "heading_collapsed": true
   },
   "source": [
    "## season"
   ]
  },
  {
   "cell_type": "code",
   "execution_count": 117,
   "metadata": {
    "ExecuteTime": {
     "end_time": "2019-04-20T14:35:54.133703Z",
     "start_time": "2019-04-20T14:35:54.121332Z"
    },
    "hidden": true
   },
   "outputs": [],
   "source": [
    "seasons = data.season\n",
    "season_freq = np.unique(seasons,return_counts=True)"
   ]
  },
  {
   "cell_type": "code",
   "execution_count": 118,
   "metadata": {
    "ExecuteTime": {
     "end_time": "2019-04-20T14:35:56.034015Z",
     "start_time": "2019-04-20T14:35:55.964196Z"
    },
    "hidden": true
   },
   "outputs": [],
   "source": [
    "counts_by_season = data.groupby(data.season).cnt.apply(lambda x: np.array(x)).rename(season_map)"
   ]
  },
  {
   "cell_type": "code",
   "execution_count": 119,
   "metadata": {
    "ExecuteTime": {
     "end_time": "2019-04-20T14:35:57.644997Z",
     "start_time": "2019-04-20T14:35:57.361679Z"
    },
    "hidden": true
   },
   "outputs": [
    {
     "data": {
      "image/png": "[encoded data removed]",
      "text/plain": [
       "<Figure size 1080x360 with 2 Axes>"
      ]
     },
     "metadata": {},
     "output_type": "display_data"
    }
   ],
   "source": [
    "fig, (ax1, ax2) = plt.subplots(1,2)\n",
    "ax1.bar(season_freq[0],season_freq[1])\n",
    "ax1.set_title(\"Frecuencias del atributo estación\")\n",
    "ax2.boxplot(counts_by_season,labels=counts_by_season.index,vert=False)\n",
    "ax2.set_title(\"Boxplot de cuenta por estación\")\n",
    "plt.show()"
   ]
  },
  {
   "cell_type": "markdown",
   "metadata": {
    "heading_collapsed": true
   },
   "source": [
    "## year"
   ]
  },
  {
   "cell_type": "code",
   "execution_count": 120,
   "metadata": {
    "ExecuteTime": {
     "end_time": "2019-04-20T14:36:09.985621Z",
     "start_time": "2019-04-20T14:36:09.982150Z"
    },
    "hidden": true
   },
   "outputs": [],
   "source": [
    "years = data.yr\n",
    "years_freq = np.unique(years,return_counts=True)"
   ]
  },
  {
   "cell_type": "code",
   "execution_count": 121,
   "metadata": {
    "ExecuteTime": {
     "end_time": "2019-04-20T14:36:11.029393Z",
     "start_time": "2019-04-20T14:36:11.025290Z"
    },
    "hidden": true
   },
   "outputs": [],
   "source": [
    "counts_by_year = data.groupby(data.yr).cnt.apply(lambda x: np.array(x)).rename(year_map)"
   ]
  },
  {
   "cell_type": "code",
   "execution_count": 123,
   "metadata": {
    "ExecuteTime": {
     "end_time": "2019-04-20T14:36:15.075889Z",
     "start_time": "2019-04-20T14:36:14.873654Z"
    },
    "hidden": true
   },
   "outputs": [
    {
     "data": {
      "image/png": "[encoded data removed]",
      "text/plain": [
       "<Figure size 1080x360 with 2 Axes>"
      ]
     },
     "metadata": {},
     "output_type": "display_data"
    }
   ],
   "source": [
    "fig, (ax1, ax2) = plt.subplots(1,2)\n",
    "ax1.bar(years_freq[0],years_freq[1])\n",
    "ax1.set_title(\"Frecuencias del atributo año\")\n",
    "ax2.boxplot(counts_by_year,labels=counts_by_year.index, vert=False)\n",
    "ax2.set_title(\"Boxplot de cuenta por año\")\n",
    "plt.show()"
   ]
  },
  {
   "cell_type": "markdown",
   "metadata": {
    "heading_collapsed": true
   },
   "source": [
    "## mnth"
   ]
  },
  {
   "cell_type": "code",
   "execution_count": 125,
   "metadata": {
    "ExecuteTime": {
     "end_time": "2019-04-20T14:36:35.622791Z",
     "start_time": "2019-04-20T14:36:35.618514Z"
    },
    "hidden": true
   },
   "outputs": [],
   "source": [
    "months = data.mnth\n",
    "months_freq = np.unique(months,return_counts=True)"
   ]
  },
  {
   "cell_type": "code",
   "execution_count": 126,
   "metadata": {
    "ExecuteTime": {
     "end_time": "2019-04-20T14:36:36.300127Z",
     "start_time": "2019-04-20T14:36:36.291433Z"
    },
    "hidden": true
   },
   "outputs": [],
   "source": [
    "counts_by_month = data.groupby(data.mnth).cnt.apply(lambda x: np.array(x)).rename(mnth_map)"
   ]
  },
  {
   "cell_type": "code",
   "execution_count": 127,
   "metadata": {
    "ExecuteTime": {
     "end_time": "2019-04-20T14:36:38.008056Z",
     "start_time": "2019-04-20T14:36:37.627212Z"
    },
    "hidden": true
   },
   "outputs": [
    {
     "data": {
      "image/png": "[encoded data removed]",
      "text/plain": [
       "<Figure size 1080x360 with 2 Axes>"
      ]
     },
     "metadata": {},
     "output_type": "display_data"
    }
   ],
   "source": [
    "fig, (ax1, ax2) = plt.subplots(1,2)\n",
    "ax1.bar(np.array(list(map(lambda x: x[0:3], months_freq[0]))),months_freq[1])\n",
    "ax1.set_title(\"Frecuencias del atributo mes\")\n",
    "ax2.boxplot(counts_by_month,labels=counts_by_month.index, vert=False)\n",
    "ax2.set_title(\"Boxplot de cuenta por mes\")\n",
    "plt.show()"
   ]
  },
  {
   "cell_type": "markdown",
   "metadata": {
    "heading_collapsed": true
   },
   "source": [
    "## holiday"
   ]
  },
  {
   "cell_type": "code",
   "execution_count": 128,
   "metadata": {
    "ExecuteTime": {
     "end_time": "2019-04-20T14:36:47.772881Z",
     "start_time": "2019-04-20T14:36:47.765503Z"
    },
    "hidden": true
   },
   "outputs": [],
   "source": [
    "holiday_freq = np.unique(data.holiday,return_counts=True)"
   ]
  },
  {
   "cell_type": "code",
   "execution_count": 130,
   "metadata": {
    "ExecuteTime": {
     "end_time": "2019-04-20T14:36:54.098399Z",
     "start_time": "2019-04-20T14:36:54.092105Z"
    },
    "hidden": true
   },
   "outputs": [],
   "source": [
    "counts_by_holiday = data.groupby(data.holiday).cnt.apply(lambda x: np.array(x))"
   ]
  },
  {
   "cell_type": "code",
   "execution_count": 131,
   "metadata": {
    "ExecuteTime": {
     "end_time": "2019-04-20T14:36:54.884390Z",
     "start_time": "2019-04-20T14:36:54.692453Z"
    },
    "hidden": true
   },
   "outputs": [
    {
     "data": {
      "image/png": "[encoded data removed]",
      "text/plain": [
       "<Figure size 1080x360 with 2 Axes>"
      ]
     },
     "metadata": {},
     "output_type": "display_data"
    }
   ],
   "source": [
    "fig, (ax1,ax2) = plt.subplots(1,2)\n",
    "ax1.bar(holiday_freq[0],holiday_freq[1])\n",
    "ax1.set_title(\"Frecuencia atributo vacaciones\")\n",
    "ax2.boxplot(counts_by_holiday, vert=True, labels=counts_by_holiday.index)\n",
    "ax2.set_title(\"Boxplot de cuenta por vacaciones (o no)\")\n",
    "plt.show()"
   ]
  },
  {
   "cell_type": "markdown",
   "metadata": {
    "heading_collapsed": true
   },
   "source": [
    "## workingday"
   ]
  },
  {
   "cell_type": "code",
   "execution_count": 133,
   "metadata": {
    "ExecuteTime": {
     "end_time": "2019-04-20T14:37:10.411218Z",
     "start_time": "2019-04-20T14:37:10.407304Z"
    },
    "hidden": true
   },
   "outputs": [],
   "source": [
    "wd_freq = np.unique(data.workingday,return_counts=True)"
   ]
  },
  {
   "cell_type": "code",
   "execution_count": 134,
   "metadata": {
    "ExecuteTime": {
     "end_time": "2019-04-20T14:37:10.935411Z",
     "start_time": "2019-04-20T14:37:10.931292Z"
    },
    "hidden": true
   },
   "outputs": [],
   "source": [
    "counts_by_wd = data.groupby(data.workingday).cnt.apply(lambda x: np.array(x))"
   ]
  },
  {
   "cell_type": "code",
   "execution_count": 135,
   "metadata": {
    "ExecuteTime": {
     "end_time": "2019-04-20T14:37:11.636793Z",
     "start_time": "2019-04-20T14:37:11.463909Z"
    },
    "hidden": true
   },
   "outputs": [
    {
     "data": {
      "image/png": "[encoded data removed]",
      "text/plain": [
       "<Figure size 1080x360 with 2 Axes>"
      ]
     },
     "metadata": {},
     "output_type": "display_data"
    }
   ],
   "source": [
    "pylab.rcParams['figure.figsize'] = (15, 5)\n",
    "fig, (ax1, ax2) = plt.subplots(1,2)\n",
    "ax1.bar(wd_freq[0],wd_freq[1])\n",
    "ax1.set_title(\"Frecuencia atributo dia de trabajo\")\n",
    "ax2.boxplot(counts_by_wd,labels=counts_by_wd.index, vert=False)\n",
    "ax2.set_title(\"Boxplot de cuenta por dia de trabajo\")\n",
    "plt.show()"
   ]
  },
  {
   "cell_type": "markdown",
   "metadata": {
    "heading_collapsed": true
   },
   "source": [
    "## weekday"
   ]
  },
  {
   "cell_type": "code",
   "execution_count": 136,
   "metadata": {
    "ExecuteTime": {
     "end_time": "2019-04-20T14:37:21.898073Z",
     "start_time": "2019-04-20T14:37:21.893907Z"
    },
    "hidden": true
   },
   "outputs": [],
   "source": [
    "wkd_freq = np.unique(data.weekday,return_counts=True)"
   ]
  },
  {
   "cell_type": "code",
   "execution_count": 137,
   "metadata": {
    "ExecuteTime": {
     "end_time": "2019-04-20T14:37:28.510173Z",
     "start_time": "2019-04-20T14:37:28.503939Z"
    },
    "hidden": true
   },
   "outputs": [],
   "source": [
    "counts_by_wkd = data.groupby(data.weekday).cnt.apply(lambda x: np.array(x))"
   ]
  },
  {
   "cell_type": "code",
   "execution_count": 138,
   "metadata": {
    "ExecuteTime": {
     "end_time": "2019-04-20T14:37:29.541736Z",
     "start_time": "2019-04-20T14:37:29.205559Z"
    },
    "hidden": true
   },
   "outputs": [
    {
     "data": {
      "image/png": "[encoded data removed]",
      "text/plain": [
       "<Figure size 1080x360 with 2 Axes>"
      ]
     },
     "metadata": {},
     "output_type": "display_data"
    }
   ],
   "source": [
    "pylab.rcParams['figure.figsize'] = (15, 5)\n",
    "fig, (ax1,ax2) = plt.subplots(1,2)\n",
    "ax1.bar(wkd_freq[0],wkd_freq[1])\n",
    "ax1.set_title(\"Frecuencia atributo dia de la semana\")\n",
    "ax2.boxplot(counts_by_wkd,labels=counts_by_wkd.index, vert=False)\n",
    "ax2.set_title(\"Boxplot de cuenta por dia de la semana\")\n",
    "plt.show()"
   ]
  },
  {
   "cell_type": "markdown",
   "metadata": {
    "heading_collapsed": true
   },
   "source": [
    "## weather"
   ]
  },
  {
   "cell_type": "code",
   "execution_count": 139,
   "metadata": {
    "ExecuteTime": {
     "end_time": "2019-04-20T14:37:40.740274Z",
     "start_time": "2019-04-20T14:37:40.733248Z"
    },
    "hidden": true
   },
   "outputs": [],
   "source": [
    "wth_freq = np.unique(data.weathersit,return_counts=True)\n",
    "counts_by_wth = data.groupby(data.weathersit).cnt.apply(lambda x: np.array(x))"
   ]
  },
  {
   "cell_type": "code",
   "execution_count": 140,
   "metadata": {
    "ExecuteTime": {
     "end_time": "2019-04-20T14:37:41.401226Z",
     "start_time": "2019-04-20T14:37:41.205318Z"
    },
    "hidden": true,
    "scrolled": true
   },
   "outputs": [
    {
     "data": {
      "image/png": "[encoded data removed]",
      "text/plain": [
       "<Figure size 1080x360 with 2 Axes>"
      ]
     },
     "metadata": {},
     "output_type": "display_data"
    }
   ],
   "source": [
    "pylab.rcParams['figure.figsize'] = (15, 5)\n",
    "fig, (ax1, ax2) = plt.subplots(1,2)\n",
    "ax1.bar(wth_freq[0],wth_freq[1])\n",
    "ax1.set_title(\"Frecuencia atributo situacion meteorologica\")\n",
    "ax2.boxplot(counts_by_wth,labels=counts_by_wth.index, vert=False)\n",
    "ax2.set_title(\"Boxplot de cuenta por situacion meteorologica\")\n",
    "plt.show()"
   ]
  },
  {
   "cell_type": "markdown",
   "metadata": {},
   "source": [
    "## temp"
   ]
  },
  {
   "cell_type": "code",
   "execution_count": 141,
   "metadata": {
    "ExecuteTime": {
     "end_time": "2019-04-20T14:37:52.526606Z",
     "start_time": "2019-04-20T14:37:52.522082Z"
    }
   },
   "outputs": [],
   "source": [
    "temp_deg = data.temp.apply(lambda x: x*41)"
   ]
  },
  {
   "cell_type": "code",
   "execution_count": 142,
   "metadata": {
    "ExecuteTime": {
     "end_time": "2019-04-20T14:37:52.875151Z",
     "start_time": "2019-04-20T14:37:52.852243Z"
    }
   },
   "outputs": [
    {
     "name": "stdout",
     "output_type": "stream",
     "text": [
      "Media: 20.310776 Desv. Tipica: 7.505091 Rango: [2.424346 35.328347]\n"
     ]
    }
   ],
   "source": [
    "print('Media: %f Desv. Tipica: %f Rango: [%f %f]' % (temp_deg.mean(),temp_deg.std(),temp_deg.min(),temp_deg.max()))"
   ]
  },
  {
   "cell_type": "code",
   "execution_count": 143,
   "metadata": {
    "ExecuteTime": {
     "end_time": "2019-04-20T14:37:53.603992Z",
     "start_time": "2019-04-20T14:37:53.294051Z"
    }
   },
   "outputs": [
    {
     "data": {
      "image/png": "[encoded data removed]",
      "text/plain": [
       "<Figure size 1080x360 with 2 Axes>"
      ]
     },
     "metadata": {},
     "output_type": "display_data"
    }
   ],
   "source": [
    "pylab.rcParams['figure.figsize'] = (15, 5)\n",
    "fig, (ax1,ax2) = plt.subplots(1,2)\n",
    "ax1.boxplot(temp_deg)\n",
    "ax1.set_title(\"Boxplot temperatura\")\n",
    "ax2.plot(temp_deg,data.cnt, 'o')\n",
    "ax2.set_xlabel(\"Temperatura\")\n",
    "ax2.set_ylabel(\"Cuenta\")\n",
    "ax2.set_title(\"Cuenta por temperatura\")\n",
    "plt.show()"
   ]
  },
  {
   "cell_type": "markdown",
   "metadata": {},
   "source": [
    "## atemp"
   ]
  },
  {
   "cell_type": "code",
   "execution_count": 144,
   "metadata": {
    "ExecuteTime": {
     "end_time": "2019-04-20T14:37:55.379490Z",
     "start_time": "2019-04-20T14:37:55.375044Z"
    }
   },
   "outputs": [],
   "source": [
    "atemp_deg = data.atemp.apply(lambda x: x*50)"
   ]
  },
  {
   "cell_type": "code",
   "execution_count": 145,
   "metadata": {
    "ExecuteTime": {
     "end_time": "2019-04-20T14:37:55.557978Z",
     "start_time": "2019-04-20T14:37:55.554022Z"
    }
   },
   "outputs": [
    {
     "name": "stdout",
     "output_type": "stream",
     "text": [
      "Media: 23.717699 Desv. Tipica: 8.148059 Rango: [3.953480 42.044800]\n"
     ]
    }
   ],
   "source": [
    "print('Media: %f Desv. Tipica: %f Rango: [%f %f]' % (atemp_deg.mean(),atemp_deg.std(),atemp_deg.min(),atemp_deg.max()))"
   ]
  },
  {
   "cell_type": "code",
   "execution_count": 146,
   "metadata": {
    "ExecuteTime": {
     "end_time": "2019-04-20T14:37:55.962523Z",
     "start_time": "2019-04-20T14:37:55.709499Z"
    }
   },
   "outputs": [
    {
     "data": {
      "image/png": "[encoded data removed]",
      "text/plain": [
       "<Figure size 1080x360 with 2 Axes>"
      ]
     },
     "metadata": {},
     "output_type": "display_data"
    }
   ],
   "source": [
    "pylab.rcParams['figure.figsize'] = (15, 5)\n",
    "fig, (ax1,ax2) = plt.subplots(1,2)\n",
    "ax1.boxplot(atemp_deg)\n",
    "ax1.set_title(\"Boxplot sensación térmica\")\n",
    "ax2.plot(atemp_deg,data.cnt, 'o')\n",
    "ax2.set_xlabel(\"Temperatura\")\n",
    "ax2.set_ylabel(\"Cuenta\")\n",
    "ax2.set_title(\"Cuenta por sensación térmica\")\n",
    "plt.show()"
   ]
  },
  {
   "cell_type": "code",
   "execution_count": 147,
   "metadata": {
    "ExecuteTime": {
     "end_time": "2019-04-20T14:37:56.263180Z",
     "start_time": "2019-04-20T14:37:55.965484Z"
    }
   },
   "outputs": [
    {
     "data": {
      "text/plain": [
       "Text(0,0.5,'Sensación térmica')"
      ]
     },
     "execution_count": 147,
     "metadata": {},
     "output_type": "execute_result"
    },
    {
     "data": {
      "image/png": "[encoded data removed]",
      "text/plain": [
       "<Figure size 720x360 with 1 Axes>"
      ]
     },
     "metadata": {},
     "output_type": "display_data"
    }
   ],
   "source": [
    "pylab.rcParams['figure.figsize'] = (10, 5)\n",
    "plt.scatter(atemp_deg, temp_deg)\n",
    "plt.title(\"Temperatura contra sensación térmica\")\n",
    "plt.xlabel(\"Temperatura\")\n",
    "plt.ylabel(\"Sensación térmica\")"
   ]
  },
  {
   "cell_type": "markdown",
   "metadata": {},
   "source": [
    "## hum"
   ]
  },
  {
   "cell_type": "code",
   "execution_count": 148,
   "metadata": {
    "ExecuteTime": {
     "end_time": "2019-04-20T14:37:56.270256Z",
     "start_time": "2019-04-20T14:37:56.265990Z"
    }
   },
   "outputs": [],
   "source": [
    "hum_nor = data.hum.apply(lambda x: x*100)"
   ]
  },
  {
   "cell_type": "code",
   "execution_count": 149,
   "metadata": {
    "ExecuteTime": {
     "end_time": "2019-04-20T14:37:56.331428Z",
     "start_time": "2019-04-20T14:37:56.312010Z"
    }
   },
   "outputs": [
    {
     "name": "stdout",
     "output_type": "stream",
     "text": [
      "Media: 62.789406 Desv. Tipica: 14.242910 Rango: [0.000000 97.250000]\n"
     ]
    }
   ],
   "source": [
    "print('Media: %f Desv. Tipica: %f Rango: [%f %f]' % (hum_nor.mean(),hum_nor.std(),hum_nor.min(),hum_nor.max()))"
   ]
  },
  {
   "cell_type": "code",
   "execution_count": 150,
   "metadata": {
    "ExecuteTime": {
     "end_time": "2019-04-20T14:37:56.720128Z",
     "start_time": "2019-04-20T14:37:56.483795Z"
    }
   },
   "outputs": [
    {
     "data": {
      "image/png": "[encoded data removed]",
      "text/plain": [
       "<Figure size 1080x360 with 2 Axes>"
      ]
     },
     "metadata": {},
     "output_type": "display_data"
    }
   ],
   "source": [
    "pylab.rcParams['figure.figsize'] = (15, 5)\n",
    "fig, (ax1,ax2) = plt.subplots(1,2)\n",
    "ax1.boxplot(hum_nor)\n",
    "ax1.set_title(\"Boxplot humedad\")\n",
    "ax2.plot(hum_nor,data.cnt, 'o')\n",
    "ax2.set_xlabel(\"Humedad\")\n",
    "ax2.set_ylabel(\"Cuenta\")\n",
    "ax2.set_title(\"Cuenta por humedad\")\n",
    "plt.show()"
   ]
  },
  {
   "cell_type": "markdown",
   "metadata": {},
   "source": [
    "## windspeed"
   ]
  },
  {
   "cell_type": "code",
   "execution_count": 151,
   "metadata": {
    "ExecuteTime": {
     "end_time": "2019-04-20T14:37:56.806696Z",
     "start_time": "2019-04-20T14:37:56.801801Z"
    }
   },
   "outputs": [],
   "source": [
    "wnd_nor = data.windspeed.apply(lambda x: x*67)"
   ]
  },
  {
   "cell_type": "code",
   "execution_count": 152,
   "metadata": {
    "ExecuteTime": {
     "end_time": "2019-04-20T14:37:56.976936Z",
     "start_time": "2019-04-20T14:37:56.971735Z"
    }
   },
   "outputs": [
    {
     "name": "stdout",
     "output_type": "stream",
     "text": [
      "Media: 12.762576 Desv. Tipica: 5.192357 Rango: [1.500244 34.000021]\n"
     ]
    }
   ],
   "source": [
    "print('Media: %f Desv. Tipica: %f Rango: [%f %f]' % (wnd_nor.mean(),wnd_nor.std(),wnd_nor.min(),wnd_nor.max()))"
   ]
  },
  {
   "cell_type": "code",
   "execution_count": 153,
   "metadata": {
    "ExecuteTime": {
     "end_time": "2019-04-20T14:37:57.351855Z",
     "start_time": "2019-04-20T14:37:57.120020Z"
    },
    "scrolled": true
   },
   "outputs": [
    {
     "data": {
      "image/png": "[encoded data removed]",
      "text/plain": [
       "<Figure size 1080x360 with 2 Axes>"
      ]
     },
     "metadata": {},
     "output_type": "display_data"
    }
   ],
   "source": [
    "pylab.rcParams['figure.figsize'] = (15, 5)\n",
    "fig, (ax1,ax2) = plt.subplots(1,2)\n",
    "ax1.boxplot(wnd_nor)\n",
    "ax1.set_title(\"Boxplot velocidad viento\")\n",
    "ax2.plot(wnd_nor,data.cnt, 'o')\n",
    "ax2.set_xlabel(\"Velocidad\")\n",
    "ax2.set_ylabel(\"Cuenta\")\n",
    "ax2.set_title(\"Cuenta por velocidad viento\")\n",
    "plt.show()"
   ]
  },
  {
   "cell_type": "markdown",
   "metadata": {},
   "source": [
    "## count"
   ]
  },
  {
   "cell_type": "code",
   "execution_count": 154,
   "metadata": {
    "ExecuteTime": {
     "end_time": "2019-04-20T14:37:57.483036Z",
     "start_time": "2019-04-20T14:37:57.478426Z"
    },
    "scrolled": true
   },
   "outputs": [
    {
     "name": "stdout",
     "output_type": "stream",
     "text": [
      "Media: 4504.348837 Desv. Tipica: 1937.211452 Rango: [22.000000 8714.000000]\n"
     ]
    }
   ],
   "source": [
    "print('Media: %f Desv. Tipica: %f Rango: [%f %f]' % (data.cnt.mean(),data.cnt.std(),data.cnt.min(),data.cnt.max()))"
   ]
  },
  {
   "cell_type": "code",
   "execution_count": 155,
   "metadata": {
    "ExecuteTime": {
     "end_time": "2019-04-20T14:37:57.766723Z",
     "start_time": "2019-04-20T14:37:57.644342Z"
    }
   },
   "outputs": [
    {
     "data": {
      "image/png": "[encoded data removed]",
      "text/plain": [
       "<Figure size 1080x360 with 1 Axes>"
      ]
     },
     "metadata": {},
     "output_type": "display_data"
    }
   ],
   "source": [
    "pylab.rcParams['figure.figsize'] = (15, 5)\n",
    "fig, (ax1) = plt.subplots(1,1)\n",
    "ax1.boxplot(data.cnt,vert=False)\n",
    "ax1.set_title(\"Boxplot cuenta\")\n",
    "plt.show()"
   ]
  },
  {
   "cell_type": "markdown",
   "metadata": {},
   "source": [
    "## Interacciones"
   ]
  },
  {
   "cell_type": "markdown",
   "metadata": {},
   "source": [
    "### hum*windspeed"
   ]
  },
  {
   "cell_type": "code",
   "execution_count": 156,
   "metadata": {
    "ExecuteTime": {
     "end_time": "2019-04-20T14:37:58.972168Z",
     "start_time": "2019-04-20T14:37:58.770249Z"
    }
   },
   "outputs": [
    {
     "data": {
      "image/png": "[encoded data removed]",
      "text/plain": [
       "<Figure size 1080x360 with 2 Axes>"
      ]
     },
     "metadata": {},
     "output_type": "display_data"
    }
   ],
   "source": [
    "pylab.rcParams['figure.figsize'] = (15, 5)\n",
    "fig, (ax1,ax2) = plt.subplots(1,2)\n",
    "ax1.boxplot(data.windspeed*data.hum)\n",
    "ax1.set_title(\"Boxplot hum*windspeed\")\n",
    "ax2.plot(data.windspeed*data.hum,data.cnt, 'o')\n",
    "ax2.set_xlabel(\"wnd_nor*hum_nor\")\n",
    "ax2.set_ylabel(\"Cuenta\")\n",
    "ax2.set_title(\"Cuenta por hum*windspeed\")\n",
    "plt.show()"
   ]
  },
  {
   "cell_type": "markdown",
   "metadata": {},
   "source": [
    "### hum\\*wndspeed\\*atemp"
   ]
  },
  {
   "cell_type": "code",
   "execution_count": 157,
   "metadata": {
    "ExecuteTime": {
     "end_time": "2019-04-20T14:37:59.647299Z",
     "start_time": "2019-04-20T14:37:59.431665Z"
    }
   },
   "outputs": [
    {
     "data": {
      "image/png": "[encoded data removed]",
      "text/plain": [
       "<Figure size 1080x360 with 2 Axes>"
      ]
     },
     "metadata": {},
     "output_type": "display_data"
    }
   ],
   "source": [
    "pylab.rcParams['figure.figsize'] = (15, 5)\n",
    "fig, (ax1,ax2) = plt.subplots(1,2)\n",
    "ax1.boxplot(data.windspeed*data.hum*data.atemp)\n",
    "ax1.set_title(\"Boxplot hum*windspeed*atemp\")\n",
    "ax2.plot(data.windspeed*data.hum*data.atemp,data.cnt, 'o')\n",
    "ax2.set_xlabel(\"wnd_nor*hum_nor*atemp\")\n",
    "ax2.set_ylabel(\"Cuenta\")\n",
    "ax2.set_title(\"Cuenta por hum*windspeed*atemp\")\n",
    "plt.show()"
   ]
  }
 ],
 "metadata": {
  "kernelspec": {
   "display_name": "Python 3",
   "language": "python",
   "name": "python3"
  },
  "language_info": {
   "codemirror_mode": {
    "name": "ipython",
    "version": 3
   },
   "file_extension": ".py",
   "mimetype": "text/x-python",
   "name": "python",
   "nbconvert_exporter": "python",
   "pygments_lexer": "ipython3",
   "version": "3.6.5"
  }
 },
 "nbformat": 4,
 "nbformat_minor": 2
}
